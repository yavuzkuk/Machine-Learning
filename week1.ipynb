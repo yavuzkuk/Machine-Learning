{
 "cells": [
  {
   "cell_type": "code",
   "execution_count": 1,
   "metadata": {},
   "outputs": [
    {
     "name": "stdout",
     "output_type": "stream",
     "text": [
      "10\n",
      "<class 'int'>\n",
      "<class 'str'>\n"
     ]
    }
   ],
   "source": [
    "a = 10\n",
    "variable = \"asd\"\n",
    "\n",
    "print(a)\n",
    "print(type(a))\n",
    "print(type(variable))"
   ]
  },
  {
   "cell_type": "code",
   "execution_count": 3,
   "metadata": {},
   "outputs": [
    {
     "name": "stdout",
     "output_type": "stream",
     "text": [
      "[10, 20, 30, 40]\n",
      "20\n"
     ]
    },
    {
     "data": {
      "text/plain": [
       "[20, 30]"
      ]
     },
     "execution_count": 3,
     "metadata": {},
     "output_type": "execute_result"
    }
   ],
   "source": [
    "listOfNumber = [10,20,30,40]\n",
    "\n",
    "print(listOfNumber)\n",
    "\n",
    "print(listOfNumber[1])\n",
    "listOfNumber[-1]\n",
    "listOfNumber[1:3]"
   ]
  },
  {
   "cell_type": "code",
   "execution_count": 14,
   "metadata": {},
   "outputs": [
    {
     "name": "stdout",
     "output_type": "stream",
     "text": [
      "Ters hali\n",
      "[37, 78, 55, 34, 6]\n",
      "Sıralı hali\n",
      "[6, 34, 37, 55, 78]\n"
     ]
    }
   ],
   "source": [
    "listOfCity = [6,34,55,78]\n",
    "\n",
    "listOfCity.append(37)\n",
    "\n",
    "listOfCity.reverse()\n",
    "\n",
    "print(\"Ters hali\")\n",
    "print(listOfCity)\n",
    "\n",
    "listOfCity.sort()\n",
    "print(\"Sıralı hali\")\n",
    "print(listOfCity)"
   ]
  },
  {
   "cell_type": "code",
   "execution_count": 15,
   "metadata": {},
   "outputs": [
    {
     "name": "stdout",
     "output_type": "stream",
     "text": [
      "6\n",
      "34\n",
      "Samsun\n",
      "78\n"
     ]
    }
   ],
   "source": [
    "listOfCity = [6,34,55,78]\n",
    "\n",
    "for i in listOfCity:\n",
    "    if i == 55:\n",
    "        print(\"Samsun\")\n",
    "    else:\n",
    "        print(i)"
   ]
  },
  {
   "cell_type": "code",
   "execution_count": 16,
   "metadata": {},
   "outputs": [
    {
     "name": "stdout",
     "output_type": "stream",
     "text": [
      "0\n",
      "5\n",
      "10\n",
      "15\n"
     ]
    }
   ],
   "source": [
    "i = 0\n",
    "\n",
    "while i<20:\n",
    "    print(i)\n",
    "    i+=5"
   ]
  },
  {
   "cell_type": "code",
   "execution_count": 30,
   "metadata": {},
   "outputs": [
    {
     "name": "stdout",
     "output_type": "stream",
     "text": [
      "1lü\n"
     ]
    }
   ],
   "source": [
    "import random\n",
    "\n",
    "listOfAlphabet = [\"a\",\"b\",\"c\",\"d\",\"e\",\"f\",\"g\",\"h\",\"j\",\"k\",\"l\",\"ş\",\"i\",\"u\",\"ü\",\"ö\",\"ğ\",\"1\",\"2\",\"3\",\"4\",\"5\",\"6\",\"7\",\"8\",\"9\"]\n",
    "\n",
    "\n",
    "def RandomPaswd(id=5):\n",
    "    i = 0\n",
    "    passwd = \"\"\n",
    "    while i<id:\n",
    "        i+=1\n",
    "        randInt = random.randint(0,20)\n",
    "        passwd += listOfAlphabet[randInt]\n",
    "    return passwd\n",
    "\n",
    "print(RandomPaswd(3))"
   ]
  },
  {
   "cell_type": "code",
   "execution_count": 31,
   "metadata": {},
   "outputs": [
    {
     "name": "stdout",
     "output_type": "stream",
     "text": [
      "5\n"
     ]
    }
   ],
   "source": [
    "result = lambda x,y:x+y\n",
    "\n",
    "print(result(2,3))"
   ]
  },
  {
   "cell_type": "code",
   "execution_count": 37,
   "metadata": {},
   "outputs": [
    {
     "name": "stdout",
     "output_type": "stream",
     "text": [
      "{'name': 'Yavuz', 'age': 21}\n",
      "Yavuz\n",
      "dict_keys(['name', 'age'])\n",
      "dict_values(['Yavuz', 21])\n"
     ]
    }
   ],
   "source": [
    "customDictionary = {\"name\":\"Yavuz\",\"age\":21}\n",
    "\n",
    "print(customDictionary)\n",
    "print(customDictionary[\"name\"])\n",
    "\n",
    "type(customDictionary)\n",
    "\n",
    "print(customDictionary.keys())\n",
    "print(customDictionary.values())"
   ]
  },
  {
   "cell_type": "code",
   "execution_count": 39,
   "metadata": {},
   "outputs": [
    {
     "name": "stdout",
     "output_type": "stream",
     "text": [
      "yes\n",
      "dict_keys(['name', 'age'])\n"
     ]
    }
   ],
   "source": [
    "key = customDictionary.keys()\n",
    "\n",
    "if \"name\" in key:\n",
    "    print(\"yes\")\n",
    "else:\n",
    "    print(\"no\")\n",
    "\n",
    "print(key)"
   ]
  }
 ],
 "metadata": {
  "kernelspec": {
   "display_name": "Python 3",
   "language": "python",
   "name": "python3"
  },
  "language_info": {
   "codemirror_mode": {
    "name": "ipython",
    "version": 3
   },
   "file_extension": ".py",
   "mimetype": "text/x-python",
   "name": "python",
   "nbconvert_exporter": "python",
   "pygments_lexer": "ipython3",
   "version": "3.10.11"
  }
 },
 "nbformat": 4,
 "nbformat_minor": 2
}
